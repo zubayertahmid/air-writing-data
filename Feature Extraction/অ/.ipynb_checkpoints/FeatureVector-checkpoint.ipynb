{
 "cells": [
  {
   "cell_type": "code",
   "execution_count": 2,
   "id": "20ed45fa-d9ca-4d60-861b-660f27868928",
   "metadata": {},
   "outputs": [],
   "source": [
    "import numpy as np\n",
    "import pandas as pd\n",
    "import matplotlib.pyplot as plt \n",
    "from scipy.stats import entropy,iqr"
   ]
  },
  {
   "cell_type": "code",
   "execution_count": 3,
   "id": "2a2a6b5e-f213-4a60-943e-c78b9351f2c9",
   "metadata": {},
   "outputs": [],
   "source": [
    "df = pd.read_csv(\"./অ_preprocessed_1.csv\")"
   ]
  },
  {
   "cell_type": "code",
   "execution_count": 4,
   "id": "61e0a213-662e-4f38-8dfc-4d7eba61bb6f",
   "metadata": {},
   "outputs": [],
   "source": [
    "#extracting x,y,z norm\n",
    "\n",
    "x,y,z = df[\"x_norm\"],df[\"y_norm\"],df[\"z_norm\"]"
   ]
  },
  {
   "cell_type": "markdown",
   "id": "8c63eecb-9a15-4def-8573-981e53a2d28c",
   "metadata": {},
   "source": [
    "## Computing RMS\n",
    "### 📌 What it is:\n",
    "### Measures the overall intensity of movement along each axis.\n",
    "\n",
    "### 🧠 Why it helps:\n",
    "### Some characters require strong, fast strokes (e.g. “র”), others are gentler (e.g. “ই”).\n",
    "### RMS tells the model how “powerful” the movement was."
   ]
  },
  {
   "cell_type": "code",
   "execution_count": 5,
   "id": "ac6c1272-a4b7-4398-9602-4c343fa1aa53",
   "metadata": {},
   "outputs": [],
   "source": [
    "def compute_rms(series):\n",
    "    return np.sqrt(np.mean(series**2))"
   ]
  },
  {
   "cell_type": "markdown",
   "id": "6140e8d3-aad3-43c6-a9b8-2595be39ccf4",
   "metadata": {},
   "source": [
    "## Computing Zero-Crossing\n",
    "### 📌 What it is:\n",
    "### Counts how often the signal changes direction (crosses the zero line).\n",
    "\n",
    "### 🧠 Why it helps:\n",
    "###  drawing “জ” — moving back and forth more → high ZCR.\n",
    "###  “|” (just a line) → low ZCR.\n",
    "### It tells the model how “zigzaggy” the stroke is.\n",
    "\n"
   ]
  },
  {
   "cell_type": "code",
   "execution_count": 6,
   "id": "2a094b7a-79f1-4269-94a4-5f89e85b33e8",
   "metadata": {},
   "outputs": [],
   "source": [
    "def compute_zcr(series):\n",
    "    return np.mean(np.diff(mp.sign(series)) != 0)"
   ]
  },
  {
   "cell_type": "code",
   "execution_count": null,
   "id": "031ea0ef-68ba-46d3-8b08-80e41ab03cd4",
   "metadata": {},
   "outputs": [],
   "source": []
  }
 ],
 "metadata": {
  "kernelspec": {
   "display_name": "Python 3 (ipykernel)",
   "language": "python",
   "name": "python3"
  },
  "language_info": {
   "codemirror_mode": {
    "name": "ipython",
    "version": 3
   },
   "file_extension": ".py",
   "mimetype": "text/x-python",
   "name": "python",
   "nbconvert_exporter": "python",
   "pygments_lexer": "ipython3",
   "version": "3.13.2"
  }
 },
 "nbformat": 4,
 "nbformat_minor": 5
}

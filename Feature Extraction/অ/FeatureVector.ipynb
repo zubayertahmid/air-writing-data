{
 "cells": [
  {
   "cell_type": "code",
   "execution_count": 2,
   "id": "20ed45fa-d9ca-4d60-861b-660f27868928",
   "metadata": {},
   "outputs": [],
   "source": [
    "import numpy as np\n",
    "import pandas as pd\n",
    "import matplotlib.pyplot as plt \n",
    "from scipy.fft import fft\n",
    "from scipy.stats import entropy,iqr"
   ]
  },
  {
   "cell_type": "code",
   "execution_count": 3,
   "id": "2a2a6b5e-f213-4a60-943e-c78b9351f2c9",
   "metadata": {},
   "outputs": [],
   "source": [
    "df = pd.read_csv(\"./অ_preprocessed_1.csv\")"
   ]
  },
  {
   "cell_type": "code",
   "execution_count": 4,
   "id": "61e0a213-662e-4f38-8dfc-4d7eba61bb6f",
   "metadata": {},
   "outputs": [],
   "source": [
    "#extracting x,y,z norm\n",
    "\n",
    "x,y,z = df[\"x_norm\"],df[\"y_norm\"],df[\"z_norm\"]"
   ]
  },
  {
   "cell_type": "markdown",
   "id": "8c63eecb-9a15-4def-8573-981e53a2d28c",
   "metadata": {},
   "source": [
    "## Computing RMS\n",
    "### 📌 What it is:\n",
    "### Measures the overall intensity of movement along each axis.\n",
    "\n",
    "### 🧠 Why it helps:\n",
    "### Some characters require strong, fast strokes (e.g. “র”), others are gentler (e.g. “ই”).\n",
    "### RMS tells the model how “powerful” the movement was."
   ]
  },
  {
   "cell_type": "code",
   "execution_count": 5,
   "id": "ac6c1272-a4b7-4398-9602-4c343fa1aa53",
   "metadata": {},
   "outputs": [],
   "source": [
    "def compute_rms(series):\n",
    "    return np.sqrt(np.mean(series**2))"
   ]
  },
  {
   "cell_type": "markdown",
   "id": "6140e8d3-aad3-43c6-a9b8-2595be39ccf4",
   "metadata": {},
   "source": [
    "## Computing Zero-Crossing\n",
    "### 📌 What it is:\n",
    "### Counts how often the signal changes direction (crosses the zero line).\n",
    "\n",
    "### 🧠 Why it helps:\n",
    "###  drawing “জ” — moving back and forth more → high ZCR.\n",
    "###  “|” (just a line) → low ZCR.\n",
    "### It tells the model how “zigzaggy” the stroke is.\n",
    "\n"
   ]
  },
  {
   "cell_type": "code",
   "execution_count": 6,
   "id": "2a094b7a-79f1-4269-94a4-5f89e85b33e8",
   "metadata": {},
   "outputs": [],
   "source": [
    "def compute_zcr(series):\n",
    "    return np.mean(np.diff(np.sign(series)) != 0)"
   ]
  },
  {
   "cell_type": "markdown",
   "id": "208f243a-ab0f-4335-ae0b-02033c73f92b",
   "metadata": {},
   "source": [
    "## Entropy\n",
    "### 📌 What it is:\n",
    "### Measures randomness or complexity in the movement.\n",
    "\n",
    "### 🧠 Why it helps:\n",
    "### Characters like “ঘ” have loops and complexity → higher entropy.\n",
    "### Simple letters like “অ” have more predictable strokes → lower entropy.\n",
    "### Entropy helps the model tell simple vs complex strokes apart."
   ]
  },
  {
   "cell_type": "code",
   "execution_count": 7,
   "id": "da4cdcb4-3e2e-4725-bd2d-23ff8b01d09f",
   "metadata": {},
   "outputs": [],
   "source": [
    "def compute_entropy(series,bins=30):\n",
    "    hist,_ = np.histogram(series, bins = bins, density = True)\n",
    "    hist = hist[hist>0]\n",
    "    return entropy(hist)"
   ]
  },
  {
   "cell_type": "markdown",
   "id": "ed87f4ba-d32a-437f-9804-8278064cc420",
   "metadata": {},
   "source": [
    "## Extract Features"
   ]
  },
  {
   "cell_type": "code",
   "execution_count": 8,
   "id": "22d7418a-6b15-4ee9-b5fd-a587860935aa",
   "metadata": {},
   "outputs": [],
   "source": [
    "features={\n",
    "    \"RMS_x\" : compute_rms(x),\n",
    "    \"RMS_y\" : compute_rms(y),\n",
    "    \"RMS_z\" : compute_rms(z),\n",
    "    \"Entropy_x\" : compute_entropy(x),\n",
    "    \"Entropy_y\" : compute_entropy(y),\n",
    "    \"Entropy_z\" : compute_entropy(z),\n",
    "    \"ZCR_x\" : compute_zcr(x),\n",
    "    \"ZCR_y\" : compute_zcr(y),\n",
    "    \"ZCR_z\" : compute_zcr(z),\n",
    "    \"IQR_x\": iqr(x),\n",
    "    \"IQR_y\": iqr(y),\n",
    "    \"IQR_z\": iqr(z),\n",
    "    \"Corr_xy\": np.corrcoef(x, y)[0, 1],\n",
    "    \"Corr_yz\": np.corrcoef(y, z)[0, 1],\n",
    "    \"Corr_zx\": np.corrcoef(z, x)[0, 1]\n",
    "}"
   ]
  },
  {
   "cell_type": "markdown",
   "id": "a0273090-2fa9-457a-8a66-15ba24f90cb8",
   "metadata": {},
   "source": [
    "## Converting into 1 Dataframe"
   ]
  },
  {
   "cell_type": "code",
   "execution_count": 9,
   "id": "650d0244-7f99-4535-b279-9c327796d59f",
   "metadata": {},
   "outputs": [],
   "source": [
    "features_df = pd.DataFrame([features])"
   ]
  },
  {
   "cell_type": "code",
   "execution_count": 10,
   "id": "84fcf38e-46f3-47a8-8f57-440ebbfada09",
   "metadata": {},
   "outputs": [
    {
     "data": {
      "text/html": [
       "<div>\n",
       "<style scoped>\n",
       "    .dataframe tbody tr th:only-of-type {\n",
       "        vertical-align: middle;\n",
       "    }\n",
       "\n",
       "    .dataframe tbody tr th {\n",
       "        vertical-align: top;\n",
       "    }\n",
       "\n",
       "    .dataframe thead th {\n",
       "        text-align: right;\n",
       "    }\n",
       "</style>\n",
       "<table border=\"1\" class=\"dataframe\">\n",
       "  <thead>\n",
       "    <tr style=\"text-align: right;\">\n",
       "      <th></th>\n",
       "      <th>RMS_x</th>\n",
       "      <th>RMS_y</th>\n",
       "      <th>RMS_z</th>\n",
       "      <th>Entropy_x</th>\n",
       "      <th>Entropy_y</th>\n",
       "      <th>Entropy_z</th>\n",
       "      <th>ZCR_x</th>\n",
       "      <th>ZCR_y</th>\n",
       "      <th>ZCR_z</th>\n",
       "      <th>IQR_x</th>\n",
       "      <th>IQR_y</th>\n",
       "      <th>IQR_z</th>\n",
       "      <th>Corr_xy</th>\n",
       "      <th>Corr_yz</th>\n",
       "      <th>Corr_zx</th>\n",
       "    </tr>\n",
       "  </thead>\n",
       "  <tbody>\n",
       "    <tr>\n",
       "      <th>0</th>\n",
       "      <td>1.0</td>\n",
       "      <td>1.0</td>\n",
       "      <td>1.0</td>\n",
       "      <td>2.637917</td>\n",
       "      <td>2.839853</td>\n",
       "      <td>2.264464</td>\n",
       "      <td>0.006272</td>\n",
       "      <td>0.007168</td>\n",
       "      <td>0.021505</td>\n",
       "      <td>0.830156</td>\n",
       "      <td>1.072727</td>\n",
       "      <td>0.258812</td>\n",
       "      <td>-0.189886</td>\n",
       "      <td>0.016501</td>\n",
       "      <td>0.589275</td>\n",
       "    </tr>\n",
       "  </tbody>\n",
       "</table>\n",
       "</div>"
      ],
      "text/plain": [
       "   RMS_x  RMS_y  RMS_z  Entropy_x  Entropy_y  Entropy_z     ZCR_x     ZCR_y  \\\n",
       "0    1.0    1.0    1.0   2.637917   2.839853   2.264464  0.006272  0.007168   \n",
       "\n",
       "      ZCR_z     IQR_x     IQR_y     IQR_z   Corr_xy   Corr_yz   Corr_zx  \n",
       "0  0.021505  0.830156  1.072727  0.258812 -0.189886  0.016501  0.589275  "
      ]
     },
     "execution_count": 10,
     "metadata": {},
     "output_type": "execute_result"
    }
   ],
   "source": [
    "features_df"
   ]
  },
  {
   "cell_type": "code",
   "execution_count": null,
   "id": "54e1fecc-dd3b-4030-9d10-7a0c26a519eb",
   "metadata": {},
   "outputs": [],
   "source": []
  },
  {
   "cell_type": "code",
   "execution_count": 11,
   "id": "bfb6f5e7-f4d9-41af-947f-56d4c2a9dfc4",
   "metadata": {},
   "outputs": [],
   "source": [
    "x, y, z = df['x_norm'], df['y_norm'], df['z_norm']\n",
    "N = len(x)\n",
    "\n",
    "# -- FFT Feature Extractor --\n",
    "def extract_fft_features(signal, N):\n",
    "    fft_vals = np.abs(fft(signal))[:N // 2]\n",
    "    fft_freqs = np.fft.fftfreq(N)[:N // 2]\n",
    "\n",
    "    if np.sum(fft_vals) == 0:\n",
    "        return {\n",
    "            \"spectral_entropy\": 0,\n",
    "            \"spectral_energy\": 0,\n",
    "            \"spectral_centroid\": 0,\n",
    "            \"dominant_frequency\": 0\n",
    "        }\n",
    "\n",
    "    fft_norm = fft_vals / np.sum(fft_vals)\n",
    "\n",
    "    return {\n",
    "        \"spectral_entropy\": entropy(fft_norm),\n",
    "        \"spectral_energy\": np.sum(fft_vals ** 2) / N,\n",
    "        \"spectral_centroid\": np.sum(fft_freqs * fft_vals) / np.sum(fft_vals),\n",
    "        \"dominant_frequency\": fft_freqs[np.argmax(fft_vals)]\n",
    "    }\n",
    "\n",
    "# -- FFT features for each axis --\n",
    "x_fft = extract_fft_features(x, N)\n",
    "y_fft = extract_fft_features(y, N)\n",
    "z_fft = extract_fft_features(z, N)\n",
    "\n",
    "# -- Final combined feature dict --\n",
    "features = {\n",
    "    # FFT features\n",
    "    \"x_spectral_entropy\": x_fft[\"spectral_entropy\"],\n",
    "    \"y_spectral_entropy\": y_fft[\"spectral_entropy\"],\n",
    "    \"z_spectral_entropy\": z_fft[\"spectral_entropy\"],\n",
    "\n",
    "    \"x_spectral_energy\": x_fft[\"spectral_energy\"],\n",
    "    \"y_spectral_energy\": y_fft[\"spectral_energy\"],\n",
    "    \"z_spectral_energy\": z_fft[\"spectral_energy\"],\n",
    "\n",
    "    \"x_spectral_centroid\": x_fft[\"spectral_centroid\"],\n",
    "    \"y_spectral_centroid\": y_fft[\"spectral_centroid\"],\n",
    "    \"z_spectral_centroid\": z_fft[\"spectral_centroid\"],\n",
    "\n",
    "    \"x_dominant_freq\": x_fft[\"dominant_frequency\"],\n",
    "    \"y_dominant_freq\": y_fft[\"dominant_frequency\"],\n",
    "    \"z_dominant_freq\": z_fft[\"dominant_frequency\"],\n",
    "\n",
    "    \n",
    "    \"RMS_x\": compute_rms(x),\n",
    "    \"RMS_y\": compute_rms(y),\n",
    "    \"RMS_z\": compute_rms(z),\n",
    "\n",
    "    \"Entropy_x\": compute_entropy(x),\n",
    "    \"Entropy_y\": compute_entropy(y),\n",
    "    \"Entropy_z\": compute_entropy(z),\n",
    "\n",
    "    \"ZCR_x\": compute_zcr(x),\n",
    "    \"ZCR_y\": compute_zcr(y),\n",
    "    \"ZCR_z\": compute_zcr(z),\n",
    "\n",
    "    \"IQR_x\": iqr(x),\n",
    "    \"IQR_y\": iqr(y),\n",
    "    \"IQR_z\": iqr(z),\n",
    "\n",
    "    \"Corr_xy\": np.corrcoef(x, y)[0, 1],\n",
    "    \"Corr_yz\": np.corrcoef(y, z)[0, 1],\n",
    "    \"Corr_zx\": np.corrcoef(z, x)[0, 1]\n",
    "}\n",
    "\n",
    "\n",
    "features_df = pd.DataFrame([features])\n"
   ]
  },
  {
   "cell_type": "code",
   "execution_count": null,
   "id": "204486e7-87e2-4b52-a992-51abddf90d7d",
   "metadata": {},
   "outputs": [],
   "source": []
  },
  {
   "cell_type": "code",
   "execution_count": null,
   "id": "d87052a2-4979-4967-a308-2b67a526acfe",
   "metadata": {},
   "outputs": [],
   "source": []
  }
 ],
 "metadata": {
  "kernelspec": {
   "display_name": "Python 3 (ipykernel)",
   "language": "python",
   "name": "python3"
  },
  "language_info": {
   "codemirror_mode": {
    "name": "ipython",
    "version": 3
   },
   "file_extension": ".py",
   "mimetype": "text/x-python",
   "name": "python",
   "nbconvert_exporter": "python",
   "pygments_lexer": "ipython3",
   "version": "3.13.2"
  }
 },
 "nbformat": 4,
 "nbformat_minor": 5
}

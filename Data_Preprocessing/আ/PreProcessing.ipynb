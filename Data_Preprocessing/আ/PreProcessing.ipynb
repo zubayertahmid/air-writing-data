{
 "cells": [
  {
   "cell_type": "code",
   "execution_count": 2,
   "id": "bb9e2946-8cf3-4d67-ad5d-dc1a45ae954d",
   "metadata": {},
   "outputs": [],
   "source": [
    "import numpy as np\n",
    "import pandas as pd\n",
    "import matplotlib.pyplot as plt "
   ]
  },
  {
   "cell_type": "code",
   "execution_count": 3,
   "id": "6de566e7-d082-47fa-b2c2-5a6d2ce734c0",
   "metadata": {},
   "outputs": [],
   "source": [
    "data = pd.read_csv(\"./Dataset/আ_36606b04_Right Hand_20250423_120748.csv\")\n",
    "data2 = pd.read_csv(\"./Dataset/আ_36606b04_Right Hand_20250423_120805.csv\")"
   ]
  },
  {
   "cell_type": "code",
   "execution_count": 8,
   "id": "5461f998-ef79-42a7-9758-15a07557c202",
   "metadata": {},
   "outputs": [
    {
     "data": {
      "text/html": [
       "<div>\n",
       "<style scoped>\n",
       "    .dataframe tbody tr th:only-of-type {\n",
       "        vertical-align: middle;\n",
       "    }\n",
       "\n",
       "    .dataframe tbody tr th {\n",
       "        vertical-align: top;\n",
       "    }\n",
       "\n",
       "    .dataframe thead th {\n",
       "        text-align: right;\n",
       "    }\n",
       "</style>\n",
       "<table border=\"1\" class=\"dataframe\">\n",
       "  <thead>\n",
       "    <tr style=\"text-align: right;\">\n",
       "      <th></th>\n",
       "      <th>timestamp</th>\n",
       "      <th>user_id</th>\n",
       "      <th>hand_preference</th>\n",
       "      <th>acc_x</th>\n",
       "      <th>acc_y</th>\n",
       "      <th>acc_z</th>\n",
       "      <th>gyro_x</th>\n",
       "      <th>gyro_y</th>\n",
       "      <th>gyro_z</th>\n",
       "    </tr>\n",
       "  </thead>\n",
       "  <tbody>\n",
       "    <tr>\n",
       "      <th>0</th>\n",
       "      <td>0.001511</td>\n",
       "      <td>36606b04</td>\n",
       "      <td>Right Hand</td>\n",
       "      <td>0.07</td>\n",
       "      <td>-0.09</td>\n",
       "      <td>0.99</td>\n",
       "      <td>-0.22</td>\n",
       "      <td>0.11</td>\n",
       "      <td>0.34</td>\n",
       "    </tr>\n",
       "    <tr>\n",
       "      <th>1</th>\n",
       "      <td>0.001687</td>\n",
       "      <td>36606b04</td>\n",
       "      <td>Right Hand</td>\n",
       "      <td>0.07</td>\n",
       "      <td>-0.09</td>\n",
       "      <td>0.99</td>\n",
       "      <td>-0.22</td>\n",
       "      <td>0.11</td>\n",
       "      <td>0.34</td>\n",
       "    </tr>\n",
       "    <tr>\n",
       "      <th>2</th>\n",
       "      <td>0.001727</td>\n",
       "      <td>36606b04</td>\n",
       "      <td>Right Hand</td>\n",
       "      <td>0.07</td>\n",
       "      <td>-0.09</td>\n",
       "      <td>0.99</td>\n",
       "      <td>-0.22</td>\n",
       "      <td>0.11</td>\n",
       "      <td>0.34</td>\n",
       "    </tr>\n",
       "    <tr>\n",
       "      <th>3</th>\n",
       "      <td>0.078247</td>\n",
       "      <td>36606b04</td>\n",
       "      <td>Right Hand</td>\n",
       "      <td>0.07</td>\n",
       "      <td>-0.09</td>\n",
       "      <td>0.99</td>\n",
       "      <td>-0.22</td>\n",
       "      <td>0.11</td>\n",
       "      <td>0.34</td>\n",
       "    </tr>\n",
       "    <tr>\n",
       "      <th>4</th>\n",
       "      <td>0.079078</td>\n",
       "      <td>36606b04</td>\n",
       "      <td>Right Hand</td>\n",
       "      <td>0.07</td>\n",
       "      <td>-0.09</td>\n",
       "      <td>0.99</td>\n",
       "      <td>-0.22</td>\n",
       "      <td>0.11</td>\n",
       "      <td>0.34</td>\n",
       "    </tr>\n",
       "  </tbody>\n",
       "</table>\n",
       "</div>"
      ],
      "text/plain": [
       "   timestamp   user_id hand_preference  acc_x  acc_y  acc_z  gyro_x  gyro_y  \\\n",
       "0   0.001511  36606b04      Right Hand   0.07  -0.09   0.99   -0.22    0.11   \n",
       "1   0.001687  36606b04      Right Hand   0.07  -0.09   0.99   -0.22    0.11   \n",
       "2   0.001727  36606b04      Right Hand   0.07  -0.09   0.99   -0.22    0.11   \n",
       "3   0.078247  36606b04      Right Hand   0.07  -0.09   0.99   -0.22    0.11   \n",
       "4   0.079078  36606b04      Right Hand   0.07  -0.09   0.99   -0.22    0.11   \n",
       "\n",
       "   gyro_z  \n",
       "0    0.34  \n",
       "1    0.34  \n",
       "2    0.34  \n",
       "3    0.34  \n",
       "4    0.34  "
      ]
     },
     "execution_count": 8,
     "metadata": {},
     "output_type": "execute_result"
    }
   ],
   "source": [
    "data.head()"
   ]
  },
  {
   "cell_type": "markdown",
   "id": "afce7ff9-4f66-41f5-bb04-5b8760b80a84",
   "metadata": {},
   "source": [
    "## Keep only acc_x, acc_y, acc_z"
   ]
  },
  {
   "cell_type": "code",
   "execution_count": 6,
   "id": "0977578d-f543-4de1-b204-30a5d9d59c7a",
   "metadata": {},
   "outputs": [],
   "source": [
    "acc = data[['acc_x', 'acc_y', 'acc_z']].copy()\n",
    "acc2 = data2[['acc_x', 'acc_y', 'acc_z']].copy()\n"
   ]
  },
  {
   "cell_type": "code",
   "execution_count": 7,
   "id": "8ef3754d-27e5-4266-a7e2-9fcf48149547",
   "metadata": {},
   "outputs": [
    {
     "data": {
      "text/html": [
       "<div>\n",
       "<style scoped>\n",
       "    .dataframe tbody tr th:only-of-type {\n",
       "        vertical-align: middle;\n",
       "    }\n",
       "\n",
       "    .dataframe tbody tr th {\n",
       "        vertical-align: top;\n",
       "    }\n",
       "\n",
       "    .dataframe thead th {\n",
       "        text-align: right;\n",
       "    }\n",
       "</style>\n",
       "<table border=\"1\" class=\"dataframe\">\n",
       "  <thead>\n",
       "    <tr style=\"text-align: right;\">\n",
       "      <th></th>\n",
       "      <th>acc_x</th>\n",
       "      <th>acc_y</th>\n",
       "      <th>acc_z</th>\n",
       "    </tr>\n",
       "  </thead>\n",
       "  <tbody>\n",
       "    <tr>\n",
       "      <th>0</th>\n",
       "      <td>0.07</td>\n",
       "      <td>-0.09</td>\n",
       "      <td>0.99</td>\n",
       "    </tr>\n",
       "    <tr>\n",
       "      <th>1</th>\n",
       "      <td>0.07</td>\n",
       "      <td>-0.09</td>\n",
       "      <td>0.99</td>\n",
       "    </tr>\n",
       "    <tr>\n",
       "      <th>2</th>\n",
       "      <td>0.07</td>\n",
       "      <td>-0.09</td>\n",
       "      <td>0.99</td>\n",
       "    </tr>\n",
       "    <tr>\n",
       "      <th>3</th>\n",
       "      <td>0.07</td>\n",
       "      <td>-0.09</td>\n",
       "      <td>0.99</td>\n",
       "    </tr>\n",
       "    <tr>\n",
       "      <th>4</th>\n",
       "      <td>0.07</td>\n",
       "      <td>-0.09</td>\n",
       "      <td>0.99</td>\n",
       "    </tr>\n",
       "  </tbody>\n",
       "</table>\n",
       "</div>"
      ],
      "text/plain": [
       "   acc_x  acc_y  acc_z\n",
       "0   0.07  -0.09   0.99\n",
       "1   0.07  -0.09   0.99\n",
       "2   0.07  -0.09   0.99\n",
       "3   0.07  -0.09   0.99\n",
       "4   0.07  -0.09   0.99"
      ]
     },
     "execution_count": 7,
     "metadata": {},
     "output_type": "execute_result"
    }
   ],
   "source": [
    "acc.head()"
   ]
  },
  {
   "cell_type": "markdown",
   "id": "ef4675d0-ca4b-45bc-9944-aa65f2c34b28",
   "metadata": {},
   "source": [
    "##  Apply smoothing (leaky integrator)"
   ]
  },
  {
   "cell_type": "code",
   "execution_count": 9,
   "id": "261501be-8687-4779-bb9f-0c6aa6a723a1",
   "metadata": {},
   "outputs": [],
   "source": [
    "def leaky_integrator(signal, lambda_=0.9):\n",
    "    smoothed = [signal[0]]\n",
    "    for i in range(1, len(signal)):\n",
    "        smoothed.append(lambda_ * smoothed[i - 1] + (1 - lambda_) * signal[i])\n",
    "    return smoothed\n",
    "\n",
    "acc['x_smooth'] = leaky_integrator(acc['acc_x'])\n",
    "acc['y_smooth'] = leaky_integrator(acc['acc_y'])\n",
    "acc['z_smooth'] = leaky_integrator(acc['acc_z'])\n",
    "\n",
    "acc2['x_smooth'] = leaky_integrator(acc2['acc_x'])\n",
    "acc2['y_smooth'] = leaky_integrator(acc2['acc_y'])\n",
    "acc2['z_smooth'] = leaky_integrator(acc2['acc_z'])"
   ]
  },
  {
   "cell_type": "code",
   "execution_count": 10,
   "id": "264b6aa5-a57e-4384-aaab-c7a779e29b24",
   "metadata": {},
   "outputs": [
    {
     "data": {
      "text/html": [
       "<div>\n",
       "<style scoped>\n",
       "    .dataframe tbody tr th:only-of-type {\n",
       "        vertical-align: middle;\n",
       "    }\n",
       "\n",
       "    .dataframe tbody tr th {\n",
       "        vertical-align: top;\n",
       "    }\n",
       "\n",
       "    .dataframe thead th {\n",
       "        text-align: right;\n",
       "    }\n",
       "</style>\n",
       "<table border=\"1\" class=\"dataframe\">\n",
       "  <thead>\n",
       "    <tr style=\"text-align: right;\">\n",
       "      <th></th>\n",
       "      <th>acc_x</th>\n",
       "      <th>acc_y</th>\n",
       "      <th>acc_z</th>\n",
       "      <th>x_smooth</th>\n",
       "      <th>y_smooth</th>\n",
       "      <th>z_smooth</th>\n",
       "    </tr>\n",
       "  </thead>\n",
       "  <tbody>\n",
       "    <tr>\n",
       "      <th>0</th>\n",
       "      <td>-0.05</td>\n",
       "      <td>-0.09</td>\n",
       "      <td>0.96</td>\n",
       "      <td>-0.05</td>\n",
       "      <td>-0.09</td>\n",
       "      <td>0.96</td>\n",
       "    </tr>\n",
       "    <tr>\n",
       "      <th>1</th>\n",
       "      <td>-0.05</td>\n",
       "      <td>-0.09</td>\n",
       "      <td>0.96</td>\n",
       "      <td>-0.05</td>\n",
       "      <td>-0.09</td>\n",
       "      <td>0.96</td>\n",
       "    </tr>\n",
       "    <tr>\n",
       "      <th>2</th>\n",
       "      <td>-0.05</td>\n",
       "      <td>-0.09</td>\n",
       "      <td>0.96</td>\n",
       "      <td>-0.05</td>\n",
       "      <td>-0.09</td>\n",
       "      <td>0.96</td>\n",
       "    </tr>\n",
       "    <tr>\n",
       "      <th>3</th>\n",
       "      <td>-0.05</td>\n",
       "      <td>-0.09</td>\n",
       "      <td>0.96</td>\n",
       "      <td>-0.05</td>\n",
       "      <td>-0.09</td>\n",
       "      <td>0.96</td>\n",
       "    </tr>\n",
       "    <tr>\n",
       "      <th>4</th>\n",
       "      <td>-0.05</td>\n",
       "      <td>-0.09</td>\n",
       "      <td>0.96</td>\n",
       "      <td>-0.05</td>\n",
       "      <td>-0.09</td>\n",
       "      <td>0.96</td>\n",
       "    </tr>\n",
       "  </tbody>\n",
       "</table>\n",
       "</div>"
      ],
      "text/plain": [
       "   acc_x  acc_y  acc_z  x_smooth  y_smooth  z_smooth\n",
       "0  -0.05  -0.09   0.96     -0.05     -0.09      0.96\n",
       "1  -0.05  -0.09   0.96     -0.05     -0.09      0.96\n",
       "2  -0.05  -0.09   0.96     -0.05     -0.09      0.96\n",
       "3  -0.05  -0.09   0.96     -0.05     -0.09      0.96\n",
       "4  -0.05  -0.09   0.96     -0.05     -0.09      0.96"
      ]
     },
     "execution_count": 10,
     "metadata": {},
     "output_type": "execute_result"
    }
   ],
   "source": [
    "acc2.head()"
   ]
  },
  {
   "cell_type": "markdown",
   "id": "e8f108f0-23f5-45fa-a6ee-c939f5b0cc0e",
   "metadata": {},
   "source": [
    "## Normalizing data"
   ]
  },
  {
   "cell_type": "code",
   "execution_count": 11,
   "id": "2a67cae1-0c57-4764-ab1c-3ca0eec5e35a",
   "metadata": {},
   "outputs": [],
   "source": [
    "from scipy.stats import zscore\n",
    "\n",
    "acc['x_norm'] = zscore(acc['x_smooth'])\n",
    "acc['y_norm'] = zscore(acc['y_smooth'])\n",
    "acc['z_norm'] = zscore(acc['z_smooth'])\n",
    "\n",
    "acc2['x_norm'] = zscore(acc2['x_smooth'])\n",
    "acc2['y_norm'] = zscore(acc2['y_smooth'])\n",
    "acc2['z_norm'] = zscore(acc2['z_smooth'])\n"
   ]
  },
  {
   "cell_type": "code",
   "execution_count": 13,
   "id": "a67e3b4a-8f9c-4377-9f72-a527d5cfb7ed",
   "metadata": {},
   "outputs": [],
   "source": [
    "acc[['x_norm', 'y_norm', 'z_norm']].to_csv('আ_preprocessed_1.csv', index=False)"
   ]
  },
  {
   "cell_type": "code",
   "execution_count": 14,
   "id": "9b2777d9-fedf-4961-bad5-f8a3427948f9",
   "metadata": {},
   "outputs": [],
   "source": [
    "acc2[['x_norm', 'y_norm', 'z_norm']].to_csv('আ_preprocessed_2.csv', index=False)"
   ]
  },
  {
   "cell_type": "code",
   "execution_count": null,
   "id": "69487761-74fa-4c26-aa00-05a878ce95fc",
   "metadata": {},
   "outputs": [],
   "source": []
  }
 ],
 "metadata": {
  "kernelspec": {
   "display_name": "Python 3 (ipykernel)",
   "language": "python",
   "name": "python3"
  },
  "language_info": {
   "codemirror_mode": {
    "name": "ipython",
    "version": 3
   },
   "file_extension": ".py",
   "mimetype": "text/x-python",
   "name": "python",
   "nbconvert_exporter": "python",
   "pygments_lexer": "ipython3",
   "version": "3.13.2"
  }
 },
 "nbformat": 4,
 "nbformat_minor": 5
}
